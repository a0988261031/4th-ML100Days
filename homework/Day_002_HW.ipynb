{
 "cells": [
  {
   "cell_type": "markdown",
   "metadata": {},
   "source": [
    "## [作業目標]\n",
    "了解機器學習適合應用的領域與範疇。"
   ]
  },
  {
   "cell_type": "markdown",
   "metadata": {},
   "source": [
    "## [作業重點]\n",
    "透過瞭解機器學習的運作方式，找出非常適用機器學習應用的領域及其原因"
   ]
  },
  {
   "cell_type": "markdown",
   "metadata": {},
   "source": [
    "## 作業\n",
    "請找出一個你認為機器學習可以發光發熱的領域並闡述原因? "
   ]
  },
  {
   "cell_type": "markdown",
   "metadata": {},
   "source": [
    "雲端平台業。\n",
    "原因為現在越來越多人使用雲端硬碟，內容包含照片、影片、檔案、日記、提醒事項......，雲端硬碟的優點包含不用隨身攜帶、容量彈性大、可線上編輯、線上分享，過去雲端硬碟只能在有網路時使用的缺點已經漸漸改善，許多雲端平台公司已提供離線瀏覽功能，未來雲端硬碟可能會成為最多人使用的硬碟。蒐集雲端空間的資料可做個人分析、家族分析、群體分析、公司分析......，可分析的範圍非常廣，許多雲端平台在申辦帳號時也會請求讓他們存取部分資料，為可合法取得之數據。"
   ]
  }
 ],
 "metadata": {
  "kernelspec": {
   "display_name": "Python 3",
   "language": "python",
   "name": "python3"
  },
  "language_info": {
   "codemirror_mode": {
    "name": "ipython",
    "version": 3
   },
   "file_extension": ".py",
   "mimetype": "text/x-python",
   "name": "python",
   "nbconvert_exporter": "python",
   "pygments_lexer": "ipython3",
   "version": "3.6.5"
  }
 },
 "nbformat": 4,
 "nbformat_minor": 2
}
